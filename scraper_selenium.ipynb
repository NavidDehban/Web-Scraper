{
 "cells": [
  {
   "cell_type": "code",
   "execution_count": 95,
   "id": "84a5517f",
   "metadata": {},
   "outputs": [],
   "source": [
    "from selenium import webdriver\n",
    "from selenium.webdriver.common.keys import Keys\n",
    "from selenium.webdriver.support import expected_conditions as EC\n",
    "from selenium.webdriver.common.by import By\n",
    "from selenium.webdriver.support.wait import WebDriverWait\n",
    "from selenium.webdriver.common.by import By\n",
    "import getpass\n",
    "import time "
   ]
  },
  {
   "cell_type": "code",
   "execution_count": 96,
   "id": "c0f9bfe7",
   "metadata": {},
   "outputs": [
    {
     "name": "stdout",
     "output_type": "stream",
     "text": [
      "username:navid_10ban\n",
      "password:········\n",
      "hashtag(enter without #):g63\n"
     ]
    }
   ],
   "source": [
    "username_ = input('username:')\n",
    "password_ = getpass.getpass('password:')\n",
    "keyword = input('hashtag(enter without #):')\n",
    "keyword = '#'+keyword"
   ]
  },
  {
   "cell_type": "code",
   "execution_count": 97,
   "id": "cf9618c8",
   "metadata": {},
   "outputs": [
    {
     "name": "stderr",
     "output_type": "stream",
     "text": [
      "C:\\Users\\pc\\AppData\\Local\\Temp\\ipykernel_7796\\4091623171.py:1: DeprecationWarning: executable_path has been deprecated, please pass in a Service object\n",
      "  driver = webdriver.Chrome(\"C:/Users/pc/Desktop/chromedriver.exe\")\n"
     ]
    }
   ],
   "source": [
    "driver = webdriver.Chrome(\"C:/Users/pc/Desktop/chromedriver.exe\")\n",
    "driver.get(\"http://www.instagram.com\")\n",
    "\n",
    "username = WebDriverWait(driver, 10).until(EC.element_to_be_clickable((By.CSS_SELECTOR, \"input[name='username']\")))\n",
    "password = WebDriverWait(driver, 10).until(EC.element_to_be_clickable((By.CSS_SELECTOR, \"input[name='password']\")))\n",
    "\n",
    "username.clear()\n",
    "username.send_keys(username_)\n",
    "password.clear()\n",
    "password.send_keys(password_)\n",
    "\n",
    "button = WebDriverWait(driver, 2).until(EC.element_to_be_clickable((By.CSS_SELECTOR, \"button[type='submit']\"))).click()\n",
    "\n",
    "not_now = WebDriverWait(driver, 10).until(EC.element_to_be_clickable((By.XPATH, '//button[contains(text(), \"Not Now\")]'))).click()\n",
    "not_now2 = WebDriverWait(driver, 10).until(EC.element_to_be_clickable((By.XPATH, '//button[contains(text(), \"Not Now\")]'))).click()\n",
    "\n",
    "searchbox = WebDriverWait(driver, 10).until(EC.element_to_be_clickable((By.XPATH, \"//input[@placeholder='Search']\")))\n",
    "searchbox.clear()\n",
    "\n",
    "searchbox.send_keys(keyword)\n",
    " \n",
    "time.sleep(1)\n",
    "searchbox.send_keys(Keys.ENTER)\n",
    "time.sleep(1)\n",
    "searchbox.send_keys(Keys.ENTER)\n",
    "time.sleep(1)"
   ]
  },
  {
   "cell_type": "code",
   "execution_count": 98,
   "id": "40f7fda4",
   "metadata": {},
   "outputs": [],
   "source": [
    "xpath = \"//a[@role='link']\"\n",
    "images = []\n",
    "for i in range(4):\n",
    "    images += driver.find_elements(By.XPATH, xpath)\n",
    "    driver.execute_script(\"window.scrollTo(0, 10000);\")\n",
    "images = images[:100]"
   ]
  },
  {
   "cell_type": "code",
   "execution_count": 99,
   "id": "c96f24e6",
   "metadata": {},
   "outputs": [
    {
     "data": {
      "text/plain": [
       "100"
      ]
     },
     "execution_count": 99,
     "metadata": {},
     "output_type": "execute_result"
    }
   ],
   "source": [
    "len(images)"
   ]
  },
  {
   "cell_type": "code",
   "execution_count": 100,
   "id": "ccf39344",
   "metadata": {},
   "outputs": [],
   "source": [
    "links = []\n",
    "for i in range(len(images)):\n",
    "    l = images[i].get_attribute('href')\n",
    "    links.append(l)"
   ]
  },
  {
   "cell_type": "code",
   "execution_count": 104,
   "id": "74a65992",
   "metadata": {},
   "outputs": [],
   "source": [
    "with open(\"links.txt\", \"w\") as output:\n",
    "    for item in links:\n",
    "        output.write(\"%s\\n\" % item)"
   ]
  }
 ],
 "metadata": {
  "kernelspec": {
   "display_name": "Python 3 (ipykernel)",
   "language": "python",
   "name": "python3"
  },
  "language_info": {
   "codemirror_mode": {
    "name": "ipython",
    "version": 3
   },
   "file_extension": ".py",
   "mimetype": "text/x-python",
   "name": "python",
   "nbconvert_exporter": "python",
   "pygments_lexer": "ipython3",
   "version": "3.10.4"
  }
 },
 "nbformat": 4,
 "nbformat_minor": 5
}
