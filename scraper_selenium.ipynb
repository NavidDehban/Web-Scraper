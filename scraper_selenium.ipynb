{
 "cells": [
  {
   "cell_type": "code",
   "execution_count": 1,
   "id": "84a5517f",
   "metadata": {},
   "outputs": [],
   "source": [
    "from selenium import webdriver\n",
    "from selenium.webdriver.common.keys import Keys\n",
    "from selenium.webdriver.support import expected_conditions as EC\n",
    "from selenium.webdriver.common.by import By\n",
    "from selenium.webdriver.support.wait import WebDriverWait\n",
    "from selenium.webdriver.common.by import By\n",
    "import getpass\n",
    "import time"
   ]
  },
  {
   "cell_type": "code",
   "execution_count": 2,
   "id": "c0f9bfe7",
   "metadata": {},
   "outputs": [
    {
     "name": "stdout",
     "output_type": "stream",
     "text": [
      "username:navid_10ban\n",
      "password:········\n",
      "hashtag(enter with #):#dog\n"
     ]
    }
   ],
   "source": [
    "username_ = input('username:')\n",
    "password_ = getpass.getpass('password:')\n",
    "keyword = input('hashtag(enter with #):')"
   ]
  },
  {
   "cell_type": "code",
   "execution_count": 3,
   "id": "cf9618c8",
   "metadata": {},
   "outputs": [
    {
     "name": "stderr",
     "output_type": "stream",
     "text": [
      "C:\\Users\\pc\\AppData\\Local\\Temp\\ipykernel_9848\\4091623171.py:1: DeprecationWarning: executable_path has been deprecated, please pass in a Service object\n",
      "  driver = webdriver.Chrome(\"C:/Users/pc/Desktop/chromedriver.exe\")\n"
     ]
    }
   ],
   "source": [
    "driver = webdriver.Chrome(\"C:/Users/pc/Desktop/chromedriver.exe\")\n",
    "driver.get(\"http://www.instagram.com\")\n",
    "\n",
    "username = WebDriverWait(driver, 10).until(EC.element_to_be_clickable((By.CSS_SELECTOR, \"input[name='username']\")))\n",
    "password = WebDriverWait(driver, 10).until(EC.element_to_be_clickable((By.CSS_SELECTOR, \"input[name='password']\")))\n",
    "\n",
    "username.clear()\n",
    "username.send_keys(username_)\n",
    "password.clear()\n",
    "password.send_keys(password_)\n",
    "\n",
    "button = WebDriverWait(driver, 2).until(EC.element_to_be_clickable((By.CSS_SELECTOR, \"button[type='submit']\"))).click()\n",
    "\n",
    "not_now = WebDriverWait(driver, 10).until(EC.element_to_be_clickable((By.XPATH, '//button[contains(text(), \"Not Now\")]'))).click()\n",
    "not_now2 = WebDriverWait(driver, 10).until(EC.element_to_be_clickable((By.XPATH, '//button[contains(text(), \"Not Now\")]'))).click()\n",
    "\n",
    "searchbox = WebDriverWait(driver, 10).until(EC.element_to_be_clickable((By.XPATH, \"//input[@placeholder='Search']\")))\n",
    "searchbox.clear()\n",
    "\n",
    "searchbox.send_keys(keyword)\n",
    " \n",
    "time.sleep(1)\n",
    "searchbox.send_keys(Keys.ENTER)\n",
    "time.sleep(1)\n",
    "searchbox.send_keys(Keys.ENTER)\n",
    "time.sleep(1)"
   ]
  },
  {
   "cell_type": "code",
   "execution_count": 7,
   "id": "a681dc6f",
   "metadata": {},
   "outputs": [],
   "source": [
    "images = []\n",
    "for i in range(4):\n",
    "    images += driver.find_elements(By.CLASS_NAME, \"_aagt\")\n",
    "    driver.execute_script(\"window.scrollTo(0, 10000);\")"
   ]
  },
  {
   "cell_type": "code",
   "execution_count": 10,
   "id": "9e2113d1",
   "metadata": {},
   "outputs": [],
   "source": [
    "images = images[:100]"
   ]
  },
  {
   "cell_type": "code",
   "execution_count": 11,
   "id": "491fd766",
   "metadata": {},
   "outputs": [
    {
     "data": {
      "text/plain": [
       "[<selenium.webdriver.remote.webelement.WebElement (session=\"bf389fd3ca6328b50fa845bab65d713e\", element=\"001402f2-1d83-4d50-8030-1d74c3f16e13\")>,\n",
       " <selenium.webdriver.remote.webelement.WebElement (session=\"bf389fd3ca6328b50fa845bab65d713e\", element=\"85dfbd86-3da6-4d62-8a2d-9bf8550ed563\")>,\n",
       " <selenium.webdriver.remote.webelement.WebElement (session=\"bf389fd3ca6328b50fa845bab65d713e\", element=\"3216c92e-66de-44ab-838f-f604b86a7d32\")>,\n",
       " <selenium.webdriver.remote.webelement.WebElement (session=\"bf389fd3ca6328b50fa845bab65d713e\", element=\"ce59416d-0115-4922-a5ab-90dc46e52946\")>,\n",
       " <selenium.webdriver.remote.webelement.WebElement (session=\"bf389fd3ca6328b50fa845bab65d713e\", element=\"15375e66-437b-4461-a5da-6f34155e75b1\")>,\n",
       " <selenium.webdriver.remote.webelement.WebElement (session=\"bf389fd3ca6328b50fa845bab65d713e\", element=\"ce3eae7e-bc22-4937-a6f5-0d461e2d1648\")>,\n",
       " <selenium.webdriver.remote.webelement.WebElement (session=\"bf389fd3ca6328b50fa845bab65d713e\", element=\"e8cc9ca5-ad7d-423c-91b2-2e9acff30a71\")>,\n",
       " <selenium.webdriver.remote.webelement.WebElement (session=\"bf389fd3ca6328b50fa845bab65d713e\", element=\"8d536b2d-cb18-42ec-a6bb-423fa63d91b1\")>,\n",
       " <selenium.webdriver.remote.webelement.WebElement (session=\"bf389fd3ca6328b50fa845bab65d713e\", element=\"8fe1a7cf-71b1-4ff6-a55e-dfa58e221bb3\")>,\n",
       " <selenium.webdriver.remote.webelement.WebElement (session=\"bf389fd3ca6328b50fa845bab65d713e\", element=\"34ed437a-7148-4390-abfc-2713046b4f61\")>,\n",
       " <selenium.webdriver.remote.webelement.WebElement (session=\"bf389fd3ca6328b50fa845bab65d713e\", element=\"608abfce-bea3-4627-a03b-d82138cd574d\")>,\n",
       " <selenium.webdriver.remote.webelement.WebElement (session=\"bf389fd3ca6328b50fa845bab65d713e\", element=\"218c4205-6eea-4c48-b1ad-c8d434d19982\")>,\n",
       " <selenium.webdriver.remote.webelement.WebElement (session=\"bf389fd3ca6328b50fa845bab65d713e\", element=\"c7a9e843-c8de-4dee-8ced-37cabe795469\")>,\n",
       " <selenium.webdriver.remote.webelement.WebElement (session=\"bf389fd3ca6328b50fa845bab65d713e\", element=\"95d6a5a4-4617-4a2d-9f23-375af42c7303\")>,\n",
       " <selenium.webdriver.remote.webelement.WebElement (session=\"bf389fd3ca6328b50fa845bab65d713e\", element=\"cd753d7a-63d4-47b3-b5e3-67ef2572ff4b\")>,\n",
       " <selenium.webdriver.remote.webelement.WebElement (session=\"bf389fd3ca6328b50fa845bab65d713e\", element=\"80768884-602d-4b01-9c76-87d3b59a4f18\")>,\n",
       " <selenium.webdriver.remote.webelement.WebElement (session=\"bf389fd3ca6328b50fa845bab65d713e\", element=\"2cfa1754-cf99-4c6a-83c4-f1aca4b5268b\")>,\n",
       " <selenium.webdriver.remote.webelement.WebElement (session=\"bf389fd3ca6328b50fa845bab65d713e\", element=\"f78c4349-53b7-4e3a-b189-2eb940bfe865\")>,\n",
       " <selenium.webdriver.remote.webelement.WebElement (session=\"bf389fd3ca6328b50fa845bab65d713e\", element=\"0249271b-671b-4a74-b3b2-5e9b0bf86acb\")>,\n",
       " <selenium.webdriver.remote.webelement.WebElement (session=\"bf389fd3ca6328b50fa845bab65d713e\", element=\"0c84ee98-f242-4224-920a-f2026b314420\")>,\n",
       " <selenium.webdriver.remote.webelement.WebElement (session=\"bf389fd3ca6328b50fa845bab65d713e\", element=\"1619a343-ce8d-4ce1-b204-882e9fd417d3\")>,\n",
       " <selenium.webdriver.remote.webelement.WebElement (session=\"bf389fd3ca6328b50fa845bab65d713e\", element=\"5a81f882-83db-4274-b5f1-ed5bb998b42b\")>,\n",
       " <selenium.webdriver.remote.webelement.WebElement (session=\"bf389fd3ca6328b50fa845bab65d713e\", element=\"5627057f-0a02-4ee3-9cbe-4f824e605740\")>,\n",
       " <selenium.webdriver.remote.webelement.WebElement (session=\"bf389fd3ca6328b50fa845bab65d713e\", element=\"6c2b353a-3b42-48ba-9a06-6d461e0922de\")>,\n",
       " <selenium.webdriver.remote.webelement.WebElement (session=\"bf389fd3ca6328b50fa845bab65d713e\", element=\"ecba4903-ebb3-42f8-ac2e-5b341e6b0907\")>,\n",
       " <selenium.webdriver.remote.webelement.WebElement (session=\"bf389fd3ca6328b50fa845bab65d713e\", element=\"bdfe8fa3-42ad-4609-9ec0-92cc5b913b11\")>,\n",
       " <selenium.webdriver.remote.webelement.WebElement (session=\"bf389fd3ca6328b50fa845bab65d713e\", element=\"ade35d8b-1167-4e4a-adba-7a152bbdbe5c\")>,\n",
       " <selenium.webdriver.remote.webelement.WebElement (session=\"bf389fd3ca6328b50fa845bab65d713e\", element=\"ffab2a94-eb7b-4b7b-bcb6-7f6c6deb507a\")>,\n",
       " <selenium.webdriver.remote.webelement.WebElement (session=\"bf389fd3ca6328b50fa845bab65d713e\", element=\"c98c4720-7cb6-4a7c-a46d-7fdc1ae33ad6\")>,\n",
       " <selenium.webdriver.remote.webelement.WebElement (session=\"bf389fd3ca6328b50fa845bab65d713e\", element=\"1435255c-09bb-44e3-b5d8-6684f071196f\")>,\n",
       " <selenium.webdriver.remote.webelement.WebElement (session=\"bf389fd3ca6328b50fa845bab65d713e\", element=\"01ff7dd2-643b-4d7a-9fc7-af8e70011776\")>,\n",
       " <selenium.webdriver.remote.webelement.WebElement (session=\"bf389fd3ca6328b50fa845bab65d713e\", element=\"f76163ae-f0bd-45c0-997d-d3de713af14e\")>,\n",
       " <selenium.webdriver.remote.webelement.WebElement (session=\"bf389fd3ca6328b50fa845bab65d713e\", element=\"db10df5b-b92c-4fa0-85ed-6d16c54efd4e\")>,\n",
       " <selenium.webdriver.remote.webelement.WebElement (session=\"bf389fd3ca6328b50fa845bab65d713e\", element=\"001402f2-1d83-4d50-8030-1d74c3f16e13\")>,\n",
       " <selenium.webdriver.remote.webelement.WebElement (session=\"bf389fd3ca6328b50fa845bab65d713e\", element=\"85dfbd86-3da6-4d62-8a2d-9bf8550ed563\")>,\n",
       " <selenium.webdriver.remote.webelement.WebElement (session=\"bf389fd3ca6328b50fa845bab65d713e\", element=\"3216c92e-66de-44ab-838f-f604b86a7d32\")>,\n",
       " <selenium.webdriver.remote.webelement.WebElement (session=\"bf389fd3ca6328b50fa845bab65d713e\", element=\"ce59416d-0115-4922-a5ab-90dc46e52946\")>,\n",
       " <selenium.webdriver.remote.webelement.WebElement (session=\"bf389fd3ca6328b50fa845bab65d713e\", element=\"15375e66-437b-4461-a5da-6f34155e75b1\")>,\n",
       " <selenium.webdriver.remote.webelement.WebElement (session=\"bf389fd3ca6328b50fa845bab65d713e\", element=\"ce3eae7e-bc22-4937-a6f5-0d461e2d1648\")>,\n",
       " <selenium.webdriver.remote.webelement.WebElement (session=\"bf389fd3ca6328b50fa845bab65d713e\", element=\"e8cc9ca5-ad7d-423c-91b2-2e9acff30a71\")>,\n",
       " <selenium.webdriver.remote.webelement.WebElement (session=\"bf389fd3ca6328b50fa845bab65d713e\", element=\"8d536b2d-cb18-42ec-a6bb-423fa63d91b1\")>,\n",
       " <selenium.webdriver.remote.webelement.WebElement (session=\"bf389fd3ca6328b50fa845bab65d713e\", element=\"8fe1a7cf-71b1-4ff6-a55e-dfa58e221bb3\")>,\n",
       " <selenium.webdriver.remote.webelement.WebElement (session=\"bf389fd3ca6328b50fa845bab65d713e\", element=\"34ed437a-7148-4390-abfc-2713046b4f61\")>,\n",
       " <selenium.webdriver.remote.webelement.WebElement (session=\"bf389fd3ca6328b50fa845bab65d713e\", element=\"608abfce-bea3-4627-a03b-d82138cd574d\")>,\n",
       " <selenium.webdriver.remote.webelement.WebElement (session=\"bf389fd3ca6328b50fa845bab65d713e\", element=\"218c4205-6eea-4c48-b1ad-c8d434d19982\")>,\n",
       " <selenium.webdriver.remote.webelement.WebElement (session=\"bf389fd3ca6328b50fa845bab65d713e\", element=\"c7a9e843-c8de-4dee-8ced-37cabe795469\")>,\n",
       " <selenium.webdriver.remote.webelement.WebElement (session=\"bf389fd3ca6328b50fa845bab65d713e\", element=\"95d6a5a4-4617-4a2d-9f23-375af42c7303\")>,\n",
       " <selenium.webdriver.remote.webelement.WebElement (session=\"bf389fd3ca6328b50fa845bab65d713e\", element=\"cd753d7a-63d4-47b3-b5e3-67ef2572ff4b\")>,\n",
       " <selenium.webdriver.remote.webelement.WebElement (session=\"bf389fd3ca6328b50fa845bab65d713e\", element=\"80768884-602d-4b01-9c76-87d3b59a4f18\")>,\n",
       " <selenium.webdriver.remote.webelement.WebElement (session=\"bf389fd3ca6328b50fa845bab65d713e\", element=\"2cfa1754-cf99-4c6a-83c4-f1aca4b5268b\")>,\n",
       " <selenium.webdriver.remote.webelement.WebElement (session=\"bf389fd3ca6328b50fa845bab65d713e\", element=\"f78c4349-53b7-4e3a-b189-2eb940bfe865\")>,\n",
       " <selenium.webdriver.remote.webelement.WebElement (session=\"bf389fd3ca6328b50fa845bab65d713e\", element=\"0249271b-671b-4a74-b3b2-5e9b0bf86acb\")>,\n",
       " <selenium.webdriver.remote.webelement.WebElement (session=\"bf389fd3ca6328b50fa845bab65d713e\", element=\"0c84ee98-f242-4224-920a-f2026b314420\")>,\n",
       " <selenium.webdriver.remote.webelement.WebElement (session=\"bf389fd3ca6328b50fa845bab65d713e\", element=\"1619a343-ce8d-4ce1-b204-882e9fd417d3\")>,\n",
       " <selenium.webdriver.remote.webelement.WebElement (session=\"bf389fd3ca6328b50fa845bab65d713e\", element=\"5a81f882-83db-4274-b5f1-ed5bb998b42b\")>,\n",
       " <selenium.webdriver.remote.webelement.WebElement (session=\"bf389fd3ca6328b50fa845bab65d713e\", element=\"5627057f-0a02-4ee3-9cbe-4f824e605740\")>,\n",
       " <selenium.webdriver.remote.webelement.WebElement (session=\"bf389fd3ca6328b50fa845bab65d713e\", element=\"6c2b353a-3b42-48ba-9a06-6d461e0922de\")>,\n",
       " <selenium.webdriver.remote.webelement.WebElement (session=\"bf389fd3ca6328b50fa845bab65d713e\", element=\"ecba4903-ebb3-42f8-ac2e-5b341e6b0907\")>,\n",
       " <selenium.webdriver.remote.webelement.WebElement (session=\"bf389fd3ca6328b50fa845bab65d713e\", element=\"bdfe8fa3-42ad-4609-9ec0-92cc5b913b11\")>,\n",
       " <selenium.webdriver.remote.webelement.WebElement (session=\"bf389fd3ca6328b50fa845bab65d713e\", element=\"ade35d8b-1167-4e4a-adba-7a152bbdbe5c\")>,\n",
       " <selenium.webdriver.remote.webelement.WebElement (session=\"bf389fd3ca6328b50fa845bab65d713e\", element=\"ffab2a94-eb7b-4b7b-bcb6-7f6c6deb507a\")>,\n",
       " <selenium.webdriver.remote.webelement.WebElement (session=\"bf389fd3ca6328b50fa845bab65d713e\", element=\"c98c4720-7cb6-4a7c-a46d-7fdc1ae33ad6\")>,\n",
       " <selenium.webdriver.remote.webelement.WebElement (session=\"bf389fd3ca6328b50fa845bab65d713e\", element=\"1435255c-09bb-44e3-b5d8-6684f071196f\")>,\n",
       " <selenium.webdriver.remote.webelement.WebElement (session=\"bf389fd3ca6328b50fa845bab65d713e\", element=\"01ff7dd2-643b-4d7a-9fc7-af8e70011776\")>,\n",
       " <selenium.webdriver.remote.webelement.WebElement (session=\"bf389fd3ca6328b50fa845bab65d713e\", element=\"f76163ae-f0bd-45c0-997d-d3de713af14e\")>,\n",
       " <selenium.webdriver.remote.webelement.WebElement (session=\"bf389fd3ca6328b50fa845bab65d713e\", element=\"db10df5b-b92c-4fa0-85ed-6d16c54efd4e\")>,\n",
       " <selenium.webdriver.remote.webelement.WebElement (session=\"bf389fd3ca6328b50fa845bab65d713e\", element=\"001402f2-1d83-4d50-8030-1d74c3f16e13\")>,\n",
       " <selenium.webdriver.remote.webelement.WebElement (session=\"bf389fd3ca6328b50fa845bab65d713e\", element=\"85dfbd86-3da6-4d62-8a2d-9bf8550ed563\")>,\n",
       " <selenium.webdriver.remote.webelement.WebElement (session=\"bf389fd3ca6328b50fa845bab65d713e\", element=\"3216c92e-66de-44ab-838f-f604b86a7d32\")>,\n",
       " <selenium.webdriver.remote.webelement.WebElement (session=\"bf389fd3ca6328b50fa845bab65d713e\", element=\"ce59416d-0115-4922-a5ab-90dc46e52946\")>,\n",
       " <selenium.webdriver.remote.webelement.WebElement (session=\"bf389fd3ca6328b50fa845bab65d713e\", element=\"15375e66-437b-4461-a5da-6f34155e75b1\")>,\n",
       " <selenium.webdriver.remote.webelement.WebElement (session=\"bf389fd3ca6328b50fa845bab65d713e\", element=\"ce3eae7e-bc22-4937-a6f5-0d461e2d1648\")>,\n",
       " <selenium.webdriver.remote.webelement.WebElement (session=\"bf389fd3ca6328b50fa845bab65d713e\", element=\"e8cc9ca5-ad7d-423c-91b2-2e9acff30a71\")>,\n",
       " <selenium.webdriver.remote.webelement.WebElement (session=\"bf389fd3ca6328b50fa845bab65d713e\", element=\"8d536b2d-cb18-42ec-a6bb-423fa63d91b1\")>,\n",
       " <selenium.webdriver.remote.webelement.WebElement (session=\"bf389fd3ca6328b50fa845bab65d713e\", element=\"8fe1a7cf-71b1-4ff6-a55e-dfa58e221bb3\")>,\n",
       " <selenium.webdriver.remote.webelement.WebElement (session=\"bf389fd3ca6328b50fa845bab65d713e\", element=\"34ed437a-7148-4390-abfc-2713046b4f61\")>,\n",
       " <selenium.webdriver.remote.webelement.WebElement (session=\"bf389fd3ca6328b50fa845bab65d713e\", element=\"608abfce-bea3-4627-a03b-d82138cd574d\")>,\n",
       " <selenium.webdriver.remote.webelement.WebElement (session=\"bf389fd3ca6328b50fa845bab65d713e\", element=\"218c4205-6eea-4c48-b1ad-c8d434d19982\")>,\n",
       " <selenium.webdriver.remote.webelement.WebElement (session=\"bf389fd3ca6328b50fa845bab65d713e\", element=\"c7a9e843-c8de-4dee-8ced-37cabe795469\")>,\n",
       " <selenium.webdriver.remote.webelement.WebElement (session=\"bf389fd3ca6328b50fa845bab65d713e\", element=\"95d6a5a4-4617-4a2d-9f23-375af42c7303\")>,\n",
       " <selenium.webdriver.remote.webelement.WebElement (session=\"bf389fd3ca6328b50fa845bab65d713e\", element=\"cd753d7a-63d4-47b3-b5e3-67ef2572ff4b\")>,\n",
       " <selenium.webdriver.remote.webelement.WebElement (session=\"bf389fd3ca6328b50fa845bab65d713e\", element=\"80768884-602d-4b01-9c76-87d3b59a4f18\")>,\n",
       " <selenium.webdriver.remote.webelement.WebElement (session=\"bf389fd3ca6328b50fa845bab65d713e\", element=\"2cfa1754-cf99-4c6a-83c4-f1aca4b5268b\")>,\n",
       " <selenium.webdriver.remote.webelement.WebElement (session=\"bf389fd3ca6328b50fa845bab65d713e\", element=\"f78c4349-53b7-4e3a-b189-2eb940bfe865\")>,\n",
       " <selenium.webdriver.remote.webelement.WebElement (session=\"bf389fd3ca6328b50fa845bab65d713e\", element=\"0249271b-671b-4a74-b3b2-5e9b0bf86acb\")>,\n",
       " <selenium.webdriver.remote.webelement.WebElement (session=\"bf389fd3ca6328b50fa845bab65d713e\", element=\"0c84ee98-f242-4224-920a-f2026b314420\")>,\n",
       " <selenium.webdriver.remote.webelement.WebElement (session=\"bf389fd3ca6328b50fa845bab65d713e\", element=\"1619a343-ce8d-4ce1-b204-882e9fd417d3\")>,\n",
       " <selenium.webdriver.remote.webelement.WebElement (session=\"bf389fd3ca6328b50fa845bab65d713e\", element=\"5a81f882-83db-4274-b5f1-ed5bb998b42b\")>,\n",
       " <selenium.webdriver.remote.webelement.WebElement (session=\"bf389fd3ca6328b50fa845bab65d713e\", element=\"5627057f-0a02-4ee3-9cbe-4f824e605740\")>,\n",
       " <selenium.webdriver.remote.webelement.WebElement (session=\"bf389fd3ca6328b50fa845bab65d713e\", element=\"6c2b353a-3b42-48ba-9a06-6d461e0922de\")>,\n",
       " <selenium.webdriver.remote.webelement.WebElement (session=\"bf389fd3ca6328b50fa845bab65d713e\", element=\"ecba4903-ebb3-42f8-ac2e-5b341e6b0907\")>,\n",
       " <selenium.webdriver.remote.webelement.WebElement (session=\"bf389fd3ca6328b50fa845bab65d713e\", element=\"bdfe8fa3-42ad-4609-9ec0-92cc5b913b11\")>,\n",
       " <selenium.webdriver.remote.webelement.WebElement (session=\"bf389fd3ca6328b50fa845bab65d713e\", element=\"ade35d8b-1167-4e4a-adba-7a152bbdbe5c\")>,\n",
       " <selenium.webdriver.remote.webelement.WebElement (session=\"bf389fd3ca6328b50fa845bab65d713e\", element=\"ffab2a94-eb7b-4b7b-bcb6-7f6c6deb507a\")>,\n",
       " <selenium.webdriver.remote.webelement.WebElement (session=\"bf389fd3ca6328b50fa845bab65d713e\", element=\"c98c4720-7cb6-4a7c-a46d-7fdc1ae33ad6\")>,\n",
       " <selenium.webdriver.remote.webelement.WebElement (session=\"bf389fd3ca6328b50fa845bab65d713e\", element=\"1435255c-09bb-44e3-b5d8-6684f071196f\")>,\n",
       " <selenium.webdriver.remote.webelement.WebElement (session=\"bf389fd3ca6328b50fa845bab65d713e\", element=\"01ff7dd2-643b-4d7a-9fc7-af8e70011776\")>,\n",
       " <selenium.webdriver.remote.webelement.WebElement (session=\"bf389fd3ca6328b50fa845bab65d713e\", element=\"f76163ae-f0bd-45c0-997d-d3de713af14e\")>,\n",
       " <selenium.webdriver.remote.webelement.WebElement (session=\"bf389fd3ca6328b50fa845bab65d713e\", element=\"db10df5b-b92c-4fa0-85ed-6d16c54efd4e\")>,\n",
       " <selenium.webdriver.remote.webelement.WebElement (session=\"bf389fd3ca6328b50fa845bab65d713e\", element=\"2bbeaafc-8de3-4a12-b31d-b1f0a43abc79\")>]"
      ]
     },
     "execution_count": 11,
     "metadata": {},
     "output_type": "execute_result"
    }
   ],
   "source": [
    "images"
   ]
  }
 ],
 "metadata": {
  "kernelspec": {
   "display_name": "Python 3 (ipykernel)",
   "language": "python",
   "name": "python3"
  },
  "language_info": {
   "codemirror_mode": {
    "name": "ipython",
    "version": 3
   },
   "file_extension": ".py",
   "mimetype": "text/x-python",
   "name": "python",
   "nbconvert_exporter": "python",
   "pygments_lexer": "ipython3",
   "version": "3.10.4"
  }
 },
 "nbformat": 4,
 "nbformat_minor": 5
}
